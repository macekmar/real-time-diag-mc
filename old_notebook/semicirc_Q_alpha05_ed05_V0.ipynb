{
 "metadata": {
  "name": "",
  "signature": "sha256:3ea71d05d763ea364304d44bb772c2967e10190c55a86578efad8a3dd27dc312"
 },
 "nbformat": 3,
 "nbformat_minor": 0,
 "worksheets": [
  {
   "cells": [
    {
     "cell_type": "code",
     "collapsed": false,
     "input": [
      "from series import *\n",
      "from qmc_keldysh import *\n",
      "\n",
      "alpha = 0.5\n",
      "Gamma = 1.0\n",
      "U = 1.0 * Gamma\n",
      "epsilon_d = 0.5\n",
      "tmax = 3. * Gamma\n",
      "V = 0. * Gamma\n",
      "muL = V/2.\n",
      "muR = -V/2.\n",
      "beta = 200.\n",
      "GF_type = 0 #semi-circ\n",
      "is_current = False\n",
      "delta_order = 2\n",
      "\n",
      "length_cycle = 4\n",
      "n_cycles = 10000\n",
      "n_warmup_cycles = 1000\n",
      "Nmax = 5\n",
      "U_qmc = 4.\n",
      "name='test.h5'\n",
      "\n",
      "p = SimpleNamespace(alpha=alpha,\n",
      "                    epsilon_d=epsilon_d,\n",
      "                    Gamma=Gamma,\n",
      "                    tmax=tmax,\n",
      "                    muL=muL,\n",
      "                    muR=muR,\n",
      "                    beta=beta,\n",
      "                    is_current = is_current,\n",
      "                    GF_type = GF_type)\n",
      "p_qmc = SimpleNamespace(U_qmc = U_qmc,\n",
      "                        n_cycles = n_cycles,\n",
      "                        n_warmup_cycles = n_warmup_cycles, \n",
      "                        length_cycle = length_cycle, \n",
      "                        LastOrder=Nmax)\n",
      "res = QMC(p,p_qmc, True, verbosity=2, delta_order=delta_order)\n",
      "save(p,p_qmc,res,name)"
     ],
     "language": "python",
     "metadata": {},
     "outputs": [
      {
       "output_type": "stream",
       "stream": "stdout",
       "text": [
        "Non interacting charge :  0.378937283779\n",
        "--------- Nmax =  1\n",
        "Nmax= 1  final newU= 4.0\n",
        "--------- Nmax = "
       ]
      },
      {
       "output_type": "stream",
       "stream": "stdout",
       "text": [
        " 2\n",
        "Nmax="
       ]
      },
      {
       "output_type": "stream",
       "stream": "stdout",
       "text": [
        " 2  final newU= 2.87368483243\n",
        "--------- Nmax = "
       ]
      },
      {
       "output_type": "stream",
       "stream": "stdout",
       "text": [
        " 3\n",
        "Nmax="
       ]
      },
      {
       "output_type": "stream",
       "stream": "stdout",
       "text": [
        " 3  final newU= 5.84646224529\n",
        "--------- Nmax = "
       ]
      },
      {
       "output_type": "stream",
       "stream": "stdout",
       "text": [
        " 4\n",
        "Nmax="
       ]
      },
      {
       "output_type": "stream",
       "stream": "stdout",
       "text": [
        " 4  final newU= 4.63347965535\n",
        "--------- Nmax = "
       ]
      },
      {
       "output_type": "stream",
       "stream": "stdout",
       "text": [
        " 5\n",
        "Nmax="
       ]
      },
      {
       "output_type": "stream",
       "stream": "stdout",
       "text": [
        " 5  final newU= 4.63347965535\n"
       ]
      },
      {
       "output_type": "stream",
       "stream": "stderr",
       "text": [
        "Starting on 1 Nodes at : 2015-06-02 23:26:10.450911\n"
       ]
      }
     ],
     "prompt_number": 1
    },
    {
     "cell_type": "code",
     "collapsed": false,
     "input": [
      "R = HDFArchive('../../sources/SUM_KELDYSH/benchmark/semicirc_Q_alpha05_ed05_V0_Nmax5.h5', 'r')\n",
      "#R = HDFArchive('../../sources/SUM_KELDYSH/benchmark/semicirc_Q_alpha05_ed05_V0_Nmax8.h5', 'r')\n",
      "on= array(R['on'])[0:Nmax+1]\n",
      "pn= array(R['pn'])[0:Nmax+1]\n",
      "print 'old results=',on\n",
      "print 'new results=',res[2]\n",
      "print abs(array(on)-array(res[2]))\n",
      "print 'error on On = ',abs(array(on)-array(res[2]))/abs(array(on))"
     ],
     "language": "python",
     "metadata": {},
     "outputs": [
      {
       "output_type": "stream",
       "stream": "stdout",
       "text": [
        "[ 0.37893728  0.02401005 -0.03263056  0.0040671   0.00166035 -0.00064567]\n",
        "[0.3789372837789986, 0.023972236756767757, -0.034440981708635465, 0.003984913529676672, 0.0017751215019410841, -0.0006038541093073966]\n",
        "[  0.00000000e+00   3.78083145e-05   1.81041988e-03   8.21848624e-05\n",
        "   1.14772332e-04   4.18179434e-05]\n",
        "error =  [ 0.          0.00157469  0.05548234  0.02020725  0.06912542  0.06476654]\n"
       ]
      }
     ],
     "prompt_number": 2
    },
    {
     "cell_type": "code",
     "collapsed": false,
     "input": [],
     "language": "python",
     "metadata": {},
     "outputs": []
    }
   ],
   "metadata": {}
  }
 ]
}